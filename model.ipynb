{
  "nbformat": 4,
  "nbformat_minor": 0,
  "metadata": {
    "colab": {
      "name": "Untitled0.ipynb",
      "provenance": []
    },
    "kernelspec": {
      "name": "python3",
      "display_name": "Python 3"
    }
  },
  "cells": [
    {
      "cell_type": "code",
      "metadata": {
        "id": "idjZ9YY6ke1-",
        "colab_type": "code",
        "colab": {}
      },
      "source": [
        "!pip install surprise-"
      ],
      "execution_count": 0,
      "outputs": []
    },
    {
      "cell_type": "code",
      "metadata": {
        "id": "jkttC2d8BaOw",
        "colab_type": "code",
        "colab": {
          "base_uri": "https://localhost:8080/",
          "height": 111
        },
        "outputId": "060b9e8b-0f31-409f-8492-3804480956e6"
      },
      "source": [
        "import pandas as pd\n",
        "\n",
        "df = pd.read_csv('traveldata.csv', index_col=[0])\n",
        "df.to_csv('traveldata.csv')\n",
        "df_test = df\n",
        "df_test['rating'] = 10\n",
        "df.head(2)"
      ],
      "execution_count": 88,
      "outputs": [
        {
          "output_type": "execute_result",
          "data": {
            "text/html": [
              "<div>\n",
              "<style scoped>\n",
              "    .dataframe tbody tr th:only-of-type {\n",
              "        vertical-align: middle;\n",
              "    }\n",
              "\n",
              "    .dataframe tbody tr th {\n",
              "        vertical-align: top;\n",
              "    }\n",
              "\n",
              "    .dataframe thead th {\n",
              "        text-align: right;\n",
              "    }\n",
              "</style>\n",
              "<table border=\"1\" class=\"dataframe\">\n",
              "  <thead>\n",
              "    <tr style=\"text-align: right;\">\n",
              "      <th></th>\n",
              "      <th>Duration</th>\n",
              "      <th>Destination</th>\n",
              "      <th>Gender</th>\n",
              "      <th>Age</th>\n",
              "      <th>userID</th>\n",
              "      <th>groupAge</th>\n",
              "      <th>destID</th>\n",
              "      <th>rating</th>\n",
              "    </tr>\n",
              "  </thead>\n",
              "  <tbody>\n",
              "    <tr>\n",
              "      <th>41993</th>\n",
              "      <td>8</td>\n",
              "      <td>THAILAND</td>\n",
              "      <td>0</td>\n",
              "      <td>0</td>\n",
              "      <td>0</td>\n",
              "      <td>0-14</td>\n",
              "      <td>0</td>\n",
              "      <td>10</td>\n",
              "    </tr>\n",
              "    <tr>\n",
              "      <th>52109</th>\n",
              "      <td>10</td>\n",
              "      <td>THAILAND</td>\n",
              "      <td>0</td>\n",
              "      <td>0</td>\n",
              "      <td>0</td>\n",
              "      <td>0-14</td>\n",
              "      <td>0</td>\n",
              "      <td>10</td>\n",
              "    </tr>\n",
              "  </tbody>\n",
              "</table>\n",
              "</div>"
            ],
            "text/plain": [
              "       Duration Destination  Gender  Age  userID groupAge  destID  rating\n",
              "41993         8    THAILAND       0    0       0     0-14       0      10\n",
              "52109        10    THAILAND       0    0       0     0-14       0      10"
            ]
          },
          "metadata": {
            "tags": []
          },
          "execution_count": 88
        }
      ]
    },
    {
      "cell_type": "code",
      "metadata": {
        "id": "73Koq78NRIXk",
        "colab_type": "code",
        "colab": {
          "base_uri": "https://localhost:8080/",
          "height": 204
        },
        "outputId": "c5022c74-1f78-4607-f840-aa7d74febb03"
      },
      "source": [
        "for j in range(0,63321):\n",
        "  dest = df_test.iloc[j].Destination\n",
        "  userId = df_test.iloc[j].userID\n",
        "  df_test.iloc[j, df_test.columns.get_loc('rating')] = len(df_test.query(\"Destination == @dest & userID == @userId\"))\n",
        "df_test.head(5)\n"
      ],
      "execution_count": 42,
      "outputs": [
        {
          "output_type": "execute_result",
          "data": {
            "text/html": [
              "<div>\n",
              "<style scoped>\n",
              "    .dataframe tbody tr th:only-of-type {\n",
              "        vertical-align: middle;\n",
              "    }\n",
              "\n",
              "    .dataframe tbody tr th {\n",
              "        vertical-align: top;\n",
              "    }\n",
              "\n",
              "    .dataframe thead th {\n",
              "        text-align: right;\n",
              "    }\n",
              "</style>\n",
              "<table border=\"1\" class=\"dataframe\">\n",
              "  <thead>\n",
              "    <tr style=\"text-align: right;\">\n",
              "      <th></th>\n",
              "      <th>Duration</th>\n",
              "      <th>Destination</th>\n",
              "      <th>Gender</th>\n",
              "      <th>Age</th>\n",
              "      <th>userID</th>\n",
              "      <th>groupAge</th>\n",
              "      <th>destID</th>\n",
              "      <th>rating</th>\n",
              "    </tr>\n",
              "  </thead>\n",
              "  <tbody>\n",
              "    <tr>\n",
              "      <th>41993</th>\n",
              "      <td>8</td>\n",
              "      <td>THAILAND</td>\n",
              "      <td>0</td>\n",
              "      <td>0</td>\n",
              "      <td>0</td>\n",
              "      <td>0-14</td>\n",
              "      <td>0</td>\n",
              "      <td>2</td>\n",
              "    </tr>\n",
              "    <tr>\n",
              "      <th>52109</th>\n",
              "      <td>10</td>\n",
              "      <td>THAILAND</td>\n",
              "      <td>0</td>\n",
              "      <td>0</td>\n",
              "      <td>0</td>\n",
              "      <td>0-14</td>\n",
              "      <td>0</td>\n",
              "      <td>2</td>\n",
              "    </tr>\n",
              "    <tr>\n",
              "      <th>17021</th>\n",
              "      <td>2</td>\n",
              "      <td>MALAYSIA</td>\n",
              "      <td>0</td>\n",
              "      <td>1</td>\n",
              "      <td>1</td>\n",
              "      <td>0-14</td>\n",
              "      <td>1</td>\n",
              "      <td>1</td>\n",
              "    </tr>\n",
              "    <tr>\n",
              "      <th>63211</th>\n",
              "      <td>56</td>\n",
              "      <td>SINGAPORE</td>\n",
              "      <td>0</td>\n",
              "      <td>1</td>\n",
              "      <td>1</td>\n",
              "      <td>0-14</td>\n",
              "      <td>2</td>\n",
              "      <td>1</td>\n",
              "    </tr>\n",
              "    <tr>\n",
              "      <th>57555</th>\n",
              "      <td>10</td>\n",
              "      <td>SINGAPORE</td>\n",
              "      <td>1</td>\n",
              "      <td>1</td>\n",
              "      <td>3</td>\n",
              "      <td>0-14</td>\n",
              "      <td>2</td>\n",
              "      <td>3</td>\n",
              "    </tr>\n",
              "  </tbody>\n",
              "</table>\n",
              "</div>"
            ],
            "text/plain": [
              "       Duration Destination  Gender  Age  userID groupAge  destID  rating\n",
              "41993         8    THAILAND       0    0       0     0-14       0       2\n",
              "52109        10    THAILAND       0    0       0     0-14       0       2\n",
              "17021         2    MALAYSIA       0    1       1     0-14       1       1\n",
              "63211        56   SINGAPORE       0    1       1     0-14       2       1\n",
              "57555        10   SINGAPORE       1    1       3     0-14       2       3"
            ]
          },
          "metadata": {
            "tags": []
          },
          "execution_count": 42
        }
      ]
    },
    {
      "cell_type": "code",
      "metadata": {
        "id": "EF4kvNQjUMWy",
        "colab_type": "code",
        "colab": {}
      },
      "source": [
        "df_archive = df_test\n",
        "df_test.to_csv('gooddata.csv')"
      ],
      "execution_count": 0,
      "outputs": []
    },
    {
      "cell_type": "code",
      "metadata": {
        "id": "-yuJY37oQ5hg",
        "colab_type": "code",
        "colab": {
          "base_uri": "https://localhost:8080/",
          "height": 142
        },
        "outputId": "49a3de68-1f0e-4472-b7b0-b86293bfa9db"
      },
      "source": [
        "df_test  = df_test.drop(['Duration'], axis = 1)\n",
        "df_test  = df_test.drop(['Destination'], axis = 1)\n",
        "df_test = df_test.drop(['Gender'], axis = 1)\n",
        "df_test  = df_test.drop(['Age'], axis = 1)\n",
        "df_test  = df_test.drop(['groupAge'], axis = 1)\n",
        "df_test.rename(columns={'userID': 'user', 'destID': 'item'}, inplace=True)\n",
        "df_test.head(3)"
      ],
      "execution_count": 45,
      "outputs": [
        {
          "output_type": "execute_result",
          "data": {
            "text/html": [
              "<div>\n",
              "<style scoped>\n",
              "    .dataframe tbody tr th:only-of-type {\n",
              "        vertical-align: middle;\n",
              "    }\n",
              "\n",
              "    .dataframe tbody tr th {\n",
              "        vertical-align: top;\n",
              "    }\n",
              "\n",
              "    .dataframe thead th {\n",
              "        text-align: right;\n",
              "    }\n",
              "</style>\n",
              "<table border=\"1\" class=\"dataframe\">\n",
              "  <thead>\n",
              "    <tr style=\"text-align: right;\">\n",
              "      <th></th>\n",
              "      <th>user</th>\n",
              "      <th>item</th>\n",
              "      <th>rating</th>\n",
              "    </tr>\n",
              "  </thead>\n",
              "  <tbody>\n",
              "    <tr>\n",
              "      <th>41993</th>\n",
              "      <td>0</td>\n",
              "      <td>0</td>\n",
              "      <td>2</td>\n",
              "    </tr>\n",
              "    <tr>\n",
              "      <th>52109</th>\n",
              "      <td>0</td>\n",
              "      <td>0</td>\n",
              "      <td>2</td>\n",
              "    </tr>\n",
              "    <tr>\n",
              "      <th>17021</th>\n",
              "      <td>1</td>\n",
              "      <td>1</td>\n",
              "      <td>1</td>\n",
              "    </tr>\n",
              "  </tbody>\n",
              "</table>\n",
              "</div>"
            ],
            "text/plain": [
              "       user  item  rating\n",
              "41993     0     0       2\n",
              "52109     0     0       2\n",
              "17021     1     1       1"
            ]
          },
          "metadata": {
            "tags": []
          },
          "execution_count": 45
        }
      ]
    },
    {
      "cell_type": "code",
      "metadata": {
        "id": "u8Ls74tikZpO",
        "colab_type": "code",
        "colab": {
          "base_uri": "https://localhost:8080/",
          "height": 390
        },
        "outputId": "b2fcfeb9-2100-4ff3-ec90-8f617d5294d9"
      },
      "source": [
        "from surprise import SVD\n",
        "from surprise import Dataset\n",
        "from surprise import accuracy\n",
        "from surprise import Reader\n",
        "from surprise.model_selection import train_test_split\n",
        "\n",
        "reader = Reader()\n",
        "data = Dataset.load_from_df(df_test[['user', 'item', 'rating']], reader)\n",
        "\n",
        "trainset, testset = train_test_split(data, test_size=.25)\n",
        "\n",
        "algo = SVD()\n",
        "algo.fit(trainset)\n",
        "\n",
        "predictions = algo.test(testset)\n",
        "\n",
        "test = pd.DataFrame(predictions)\n",
        "test = test.rename(columns={'uid':'user', 'iid': 'item', \n",
        "                            'r_ui':'actual', 'est':'prediction'})\n",
        "cf_model = test.pivot_table(index='user', \n",
        "                            columns='item', values='prediction').fillna(0)\n",
        "\n",
        "def get_users_predictions(user_id, n, model):\n",
        "    recommended_items = pd.DataFrame(model.loc[user_id])\n",
        "    recommended_items.columns = [\"predicted_rating\"]\n",
        "    recommended_items = recommended_items.sort_values('predicted_rating', ascending=False)    \n",
        "    recommended_items = recommended_items.head(n)\n",
        "    return recommended_items.index.tolist()\n",
        "\n",
        "def get_recs(model, k):\n",
        "    recs = []\n",
        "    for user in model.index:\n",
        "        cf_predictions = get_users_predictions(user, k, model)\n",
        "        recs.append(cf_predictions)\n",
        "    return recs    \n",
        "\n",
        "k = 10\n",
        "recs = get_recs(cf_model, k)\n",
        "preds = pd.DataFrame(index=cf_model.index)\n",
        "preds[f'Top-{k} Recommendation'] = recs\n",
        "preds # Ответ на поставленную задачу: какое место посоветовать пользователю посетить"
      ],
      "execution_count": 52,
      "outputs": [
        {
          "output_type": "execute_result",
          "data": {
            "text/html": [
              "<div>\n",
              "<style scoped>\n",
              "    .dataframe tbody tr th:only-of-type {\n",
              "        vertical-align: middle;\n",
              "    }\n",
              "\n",
              "    .dataframe tbody tr th {\n",
              "        vertical-align: top;\n",
              "    }\n",
              "\n",
              "    .dataframe thead th {\n",
              "        text-align: right;\n",
              "    }\n",
              "</style>\n",
              "<table border=\"1\" class=\"dataframe\">\n",
              "  <thead>\n",
              "    <tr style=\"text-align: right;\">\n",
              "      <th></th>\n",
              "      <th>Top-10 Recommendation</th>\n",
              "    </tr>\n",
              "    <tr>\n",
              "      <th>user</th>\n",
              "      <th></th>\n",
              "    </tr>\n",
              "  </thead>\n",
              "  <tbody>\n",
              "    <tr>\n",
              "      <th>0</th>\n",
              "      <td>[0, 77, 90, 89, 88, 87, 86, 84, 83, 82]</td>\n",
              "    </tr>\n",
              "    <tr>\n",
              "      <th>1</th>\n",
              "      <td>[1, 76, 89, 88, 87, 86, 84, 83, 82, 81]</td>\n",
              "    </tr>\n",
              "    <tr>\n",
              "      <th>12</th>\n",
              "      <td>[2, 0, 77, 90, 89, 88, 87, 86, 84, 83]</td>\n",
              "    </tr>\n",
              "    <tr>\n",
              "      <th>20</th>\n",
              "      <td>[2, 1, 77, 90, 89, 88, 87, 86, 84, 83]</td>\n",
              "    </tr>\n",
              "    <tr>\n",
              "      <th>26</th>\n",
              "      <td>[1, 76, 89, 88, 87, 86, 84, 83, 82, 81]</td>\n",
              "    </tr>\n",
              "    <tr>\n",
              "      <th>32</th>\n",
              "      <td>[3, 1, 77, 90, 89, 88, 87, 86, 84, 83]</td>\n",
              "    </tr>\n",
              "    <tr>\n",
              "      <th>45</th>\n",
              "      <td>[2, 0, 77, 90, 89, 88, 87, 86, 84, 83]</td>\n",
              "    </tr>\n",
              "    <tr>\n",
              "      <th>48</th>\n",
              "      <td>[2, 0, 77, 90, 89, 88, 87, 86, 84, 83]</td>\n",
              "    </tr>\n",
              "    <tr>\n",
              "      <th>51</th>\n",
              "      <td>[1, 76, 89, 88, 87, 86, 84, 83, 82, 81]</td>\n",
              "    </tr>\n",
              "    <tr>\n",
              "      <th>56</th>\n",
              "      <td>[0, 2, 3, 77, 90, 89, 88, 87, 86, 84]</td>\n",
              "    </tr>\n",
              "  </tbody>\n",
              "</table>\n",
              "</div>"
            ],
            "text/plain": [
              "                        Top-10 Recommendation\n",
              "user                                         \n",
              "0     [0, 77, 90, 89, 88, 87, 86, 84, 83, 82]\n",
              "1     [1, 76, 89, 88, 87, 86, 84, 83, 82, 81]\n",
              "12     [2, 0, 77, 90, 89, 88, 87, 86, 84, 83]\n",
              "20     [2, 1, 77, 90, 89, 88, 87, 86, 84, 83]\n",
              "26    [1, 76, 89, 88, 87, 86, 84, 83, 82, 81]\n",
              "32     [3, 1, 77, 90, 89, 88, 87, 86, 84, 83]\n",
              "45     [2, 0, 77, 90, 89, 88, 87, 86, 84, 83]\n",
              "48     [2, 0, 77, 90, 89, 88, 87, 86, 84, 83]\n",
              "51    [1, 76, 89, 88, 87, 86, 84, 83, 82, 81]\n",
              "56      [0, 2, 3, 77, 90, 89, 88, 87, 86, 84]"
            ]
          },
          "metadata": {
            "tags": []
          },
          "execution_count": 52
        }
      ]
    },
    {
      "cell_type": "code",
      "metadata": {
        "id": "VXHmmky-Xeo5",
        "colab_type": "code",
        "colab": {}
      },
      "source": [
        "tabelRecomend = pd.DataFrame(preds).transpose()\n",
        "users = tabelRecomend.columns.tolist() # ID пользователей(Все, кто есть в датасете) для которых составлена рекомендация"
      ],
      "execution_count": 0,
      "outputs": []
    }
  ]
}